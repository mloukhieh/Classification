{
 "cells": [
  {
   "cell_type": "markdown",
   "metadata": {},
   "source": [
    "# Loan default Detection \n",
    "\n",
    "We will be investigating a data set from a bank that has customer information such as 'Customer Id', 'Age', 'Edu', 'Years Employed', 'Income', 'Card Debt','Other Debt','Address', 'DebtIncomeRatio'. An additional feature in the data set is \"Defaulted\" which is our target data. If Defaulted is equal to 0 it means that the customer has paid back the loan and if it is equal to 1 it means that the customer has defaulted on the loan. \n",
    "\n",
    "Many customers are still paying back their loans and we will be predicting whether they will default or not based on the customer information using a suitable classification model. \n",
    "\n",
    "The used data set is publicly available and can be downloaded via:\n",
    "https://s3-api.us-geo.objectstorage.softlayer.net/cf-courses-data/CognitiveClass/ML0101ENv3/labs/Cust_Segmentation.csv"
   ]
  },
  {
   "cell_type": "markdown",
   "metadata": {},
   "source": [
    "## 1- Loading the Data"
   ]
  },
  {
   "cell_type": "code",
   "execution_count": 28,
   "metadata": {},
   "outputs": [],
   "source": [
    "import pandas as pd\n",
    "import matplotlib \n",
    "from matplotlib import pyplot as plt\n",
    "import seaborn as sns \n",
    "import numpy as np"
   ]
  },
  {
   "cell_type": "code",
   "execution_count": 29,
   "metadata": {},
   "outputs": [],
   "source": [
    "df = pd.read_csv(\"C:/Users/eliec/Downloads/customer_segmentation.csv\")\n",
    "#Data source shorturl.at/dhFW7"
   ]
  },
  {
   "cell_type": "code",
   "execution_count": 30,
   "metadata": {},
   "outputs": [
    {
     "name": "stdout",
     "output_type": "stream",
     "text": [
      "(850, 10)\n"
     ]
    },
    {
     "data": {
      "text/html": [
       "<div>\n",
       "<style scoped>\n",
       "    .dataframe tbody tr th:only-of-type {\n",
       "        vertical-align: middle;\n",
       "    }\n",
       "\n",
       "    .dataframe tbody tr th {\n",
       "        vertical-align: top;\n",
       "    }\n",
       "\n",
       "    .dataframe thead th {\n",
       "        text-align: right;\n",
       "    }\n",
       "</style>\n",
       "<table border=\"1\" class=\"dataframe\">\n",
       "  <thead>\n",
       "    <tr style=\"text-align: right;\">\n",
       "      <th></th>\n",
       "      <th>Customer Id</th>\n",
       "      <th>Age</th>\n",
       "      <th>Edu</th>\n",
       "      <th>Years Employed</th>\n",
       "      <th>Income</th>\n",
       "      <th>Card Debt</th>\n",
       "      <th>Other Debt</th>\n",
       "      <th>Defaulted</th>\n",
       "      <th>Address</th>\n",
       "      <th>DebtIncomeRatio</th>\n",
       "    </tr>\n",
       "  </thead>\n",
       "  <tbody>\n",
       "    <tr>\n",
       "      <th>0</th>\n",
       "      <td>1</td>\n",
       "      <td>41</td>\n",
       "      <td>2</td>\n",
       "      <td>6</td>\n",
       "      <td>19</td>\n",
       "      <td>0.124</td>\n",
       "      <td>1.073</td>\n",
       "      <td>0.0</td>\n",
       "      <td>NBA001</td>\n",
       "      <td>6.3</td>\n",
       "    </tr>\n",
       "    <tr>\n",
       "      <th>1</th>\n",
       "      <td>2</td>\n",
       "      <td>47</td>\n",
       "      <td>1</td>\n",
       "      <td>26</td>\n",
       "      <td>100</td>\n",
       "      <td>4.582</td>\n",
       "      <td>8.218</td>\n",
       "      <td>0.0</td>\n",
       "      <td>NBA021</td>\n",
       "      <td>12.8</td>\n",
       "    </tr>\n",
       "    <tr>\n",
       "      <th>2</th>\n",
       "      <td>3</td>\n",
       "      <td>33</td>\n",
       "      <td>2</td>\n",
       "      <td>10</td>\n",
       "      <td>57</td>\n",
       "      <td>6.111</td>\n",
       "      <td>5.802</td>\n",
       "      <td>1.0</td>\n",
       "      <td>NBA013</td>\n",
       "      <td>20.9</td>\n",
       "    </tr>\n",
       "    <tr>\n",
       "      <th>3</th>\n",
       "      <td>4</td>\n",
       "      <td>29</td>\n",
       "      <td>2</td>\n",
       "      <td>4</td>\n",
       "      <td>19</td>\n",
       "      <td>0.681</td>\n",
       "      <td>0.516</td>\n",
       "      <td>0.0</td>\n",
       "      <td>NBA009</td>\n",
       "      <td>6.3</td>\n",
       "    </tr>\n",
       "    <tr>\n",
       "      <th>4</th>\n",
       "      <td>5</td>\n",
       "      <td>47</td>\n",
       "      <td>1</td>\n",
       "      <td>31</td>\n",
       "      <td>253</td>\n",
       "      <td>9.308</td>\n",
       "      <td>8.908</td>\n",
       "      <td>0.0</td>\n",
       "      <td>NBA008</td>\n",
       "      <td>7.2</td>\n",
       "    </tr>\n",
       "  </tbody>\n",
       "</table>\n",
       "</div>"
      ],
      "text/plain": [
       "   Customer Id  Age  Edu  Years Employed  Income  Card Debt  Other Debt  \\\n",
       "0            1   41    2               6      19      0.124       1.073   \n",
       "1            2   47    1              26     100      4.582       8.218   \n",
       "2            3   33    2              10      57      6.111       5.802   \n",
       "3            4   29    2               4      19      0.681       0.516   \n",
       "4            5   47    1              31     253      9.308       8.908   \n",
       "\n",
       "   Defaulted Address  DebtIncomeRatio  \n",
       "0        0.0  NBA001              6.3  \n",
       "1        0.0  NBA021             12.8  \n",
       "2        1.0  NBA013             20.9  \n",
       "3        0.0  NBA009              6.3  \n",
       "4        0.0  NBA008              7.2  "
      ]
     },
     "execution_count": 30,
     "metadata": {},
     "output_type": "execute_result"
    }
   ],
   "source": [
    "pd.options.display.max_rows = 20\n",
    "pd.options.display.max_columns = 100\n",
    "print(df.shape)\n",
    "df.head()"
   ]
  },
  {
   "cell_type": "code",
   "execution_count": 4,
   "metadata": {},
   "outputs": [
    {
     "name": "stdout",
     "output_type": "stream",
     "text": [
      "<class 'pandas.core.frame.DataFrame'>\n",
      "RangeIndex: 850 entries, 0 to 849\n",
      "Data columns (total 10 columns):\n",
      " #   Column           Non-Null Count  Dtype  \n",
      "---  ------           --------------  -----  \n",
      " 0   Customer Id      850 non-null    int64  \n",
      " 1   Age              850 non-null    int64  \n",
      " 2   Edu              850 non-null    int64  \n",
      " 3   Years Employed   850 non-null    int64  \n",
      " 4   Income           850 non-null    int64  \n",
      " 5   Card Debt        850 non-null    float64\n",
      " 6   Other Debt       850 non-null    float64\n",
      " 7   Defaulted        700 non-null    float64\n",
      " 8   Address          850 non-null    object \n",
      " 9   DebtIncomeRatio  850 non-null    float64\n",
      "dtypes: float64(4), int64(5), object(1)\n",
      "memory usage: 66.5+ KB\n"
     ]
    }
   ],
   "source": [
    "df.info()"
   ]
  },
  {
   "cell_type": "markdown",
   "metadata": {},
   "source": [
    "our target variable \"Defaulted\" has 150 entries missing out of 850 which are the entries that we need to predict. We will first split the complete data that has all the entries (700) into test and train data to be able to identify the best classification model to use. Onece we have identified the best model we will proceed to predicting the outcome of the loans that are still outstanding."
   ]
  },
  {
   "cell_type": "markdown",
   "metadata": {},
   "source": [
    "## 2- Data Wrangling"
   ]
  },
  {
   "cell_type": "code",
   "execution_count": 32,
   "metadata": {},
   "outputs": [
    {
     "data": {
      "text/html": [
       "<div>\n",
       "<style scoped>\n",
       "    .dataframe tbody tr th:only-of-type {\n",
       "        vertical-align: middle;\n",
       "    }\n",
       "\n",
       "    .dataframe tbody tr th {\n",
       "        vertical-align: top;\n",
       "    }\n",
       "\n",
       "    .dataframe thead th {\n",
       "        text-align: right;\n",
       "    }\n",
       "</style>\n",
       "<table border=\"1\" class=\"dataframe\">\n",
       "  <thead>\n",
       "    <tr style=\"text-align: right;\">\n",
       "      <th></th>\n",
       "      <th>Customer Id</th>\n",
       "      <th>Age</th>\n",
       "      <th>Edu</th>\n",
       "      <th>Years Employed</th>\n",
       "      <th>Income</th>\n",
       "      <th>Card Debt</th>\n",
       "      <th>Other Debt</th>\n",
       "      <th>Defaulted</th>\n",
       "      <th>Address</th>\n",
       "      <th>DebtIncomeRatio</th>\n",
       "    </tr>\n",
       "  </thead>\n",
       "  <tbody>\n",
       "    <tr>\n",
       "      <th>5</th>\n",
       "      <td>6</td>\n",
       "      <td>40</td>\n",
       "      <td>1</td>\n",
       "      <td>23</td>\n",
       "      <td>81</td>\n",
       "      <td>0.998</td>\n",
       "      <td>7.831</td>\n",
       "      <td>NaN</td>\n",
       "      <td>NBA016</td>\n",
       "      <td>10.9</td>\n",
       "    </tr>\n",
       "    <tr>\n",
       "      <th>8</th>\n",
       "      <td>9</td>\n",
       "      <td>26</td>\n",
       "      <td>1</td>\n",
       "      <td>5</td>\n",
       "      <td>18</td>\n",
       "      <td>0.575</td>\n",
       "      <td>2.215</td>\n",
       "      <td>NaN</td>\n",
       "      <td>NBA006</td>\n",
       "      <td>15.5</td>\n",
       "    </tr>\n",
       "    <tr>\n",
       "      <th>11</th>\n",
       "      <td>12</td>\n",
       "      <td>34</td>\n",
       "      <td>2</td>\n",
       "      <td>9</td>\n",
       "      <td>40</td>\n",
       "      <td>0.374</td>\n",
       "      <td>0.266</td>\n",
       "      <td>NaN</td>\n",
       "      <td>NBA003</td>\n",
       "      <td>1.6</td>\n",
       "    </tr>\n",
       "    <tr>\n",
       "      <th>13</th>\n",
       "      <td>14</td>\n",
       "      <td>46</td>\n",
       "      <td>1</td>\n",
       "      <td>6</td>\n",
       "      <td>30</td>\n",
       "      <td>1.415</td>\n",
       "      <td>3.865</td>\n",
       "      <td>NaN</td>\n",
       "      <td>NBA019</td>\n",
       "      <td>17.6</td>\n",
       "    </tr>\n",
       "    <tr>\n",
       "      <th>15</th>\n",
       "      <td>16</td>\n",
       "      <td>24</td>\n",
       "      <td>1</td>\n",
       "      <td>1</td>\n",
       "      <td>16</td>\n",
       "      <td>0.185</td>\n",
       "      <td>1.287</td>\n",
       "      <td>NaN</td>\n",
       "      <td>NBA005</td>\n",
       "      <td>9.2</td>\n",
       "    </tr>\n",
       "  </tbody>\n",
       "</table>\n",
       "</div>"
      ],
      "text/plain": [
       "    Customer Id  Age  Edu  Years Employed  Income  Card Debt  Other Debt  \\\n",
       "5             6   40    1              23      81      0.998       7.831   \n",
       "8             9   26    1               5      18      0.575       2.215   \n",
       "11           12   34    2               9      40      0.374       0.266   \n",
       "13           14   46    1               6      30      1.415       3.865   \n",
       "15           16   24    1               1      16      0.185       1.287   \n",
       "\n",
       "    Defaulted Address  DebtIncomeRatio  \n",
       "5         NaN  NBA016             10.9  \n",
       "8         NaN  NBA006             15.5  \n",
       "11        NaN  NBA003              1.6  \n",
       "13        NaN  NBA019             17.6  \n",
       "15        NaN  NBA005              9.2  "
      ]
     },
     "execution_count": 32,
     "metadata": {},
     "output_type": "execute_result"
    }
   ],
   "source": [
    "# Slicing the data where teh feature \"Defaulted\" is missing. This represents the oustanding loans\n",
    "df_missing = df[df[\"Defaulted\"].isnull()]\n",
    "df_missing.head()"
   ]
  },
  {
   "cell_type": "code",
   "execution_count": 33,
   "metadata": {},
   "outputs": [
    {
     "name": "stdout",
     "output_type": "stream",
     "text": [
      "<class 'pandas.core.frame.DataFrame'>\n",
      "Int64Index: 700 entries, 0 to 849\n",
      "Data columns (total 10 columns):\n",
      " #   Column           Non-Null Count  Dtype  \n",
      "---  ------           --------------  -----  \n",
      " 0   Customer Id      700 non-null    int64  \n",
      " 1   Age              700 non-null    int64  \n",
      " 2   Edu              700 non-null    int64  \n",
      " 3   Years Employed   700 non-null    int64  \n",
      " 4   Income           700 non-null    int64  \n",
      " 5   Card Debt        700 non-null    float64\n",
      " 6   Other Debt       700 non-null    float64\n",
      " 7   Defaulted        700 non-null    float64\n",
      " 8   Address          700 non-null    object \n",
      " 9   DebtIncomeRatio  700 non-null    float64\n",
      "dtypes: float64(4), int64(5), object(1)\n",
      "memory usage: 60.2+ KB\n"
     ]
    }
   ],
   "source": [
    "# dropping the rows with missing \"Defaulted\" from the dataframe\n",
    "\n",
    "df = df.dropna()\n",
    "df.info()"
   ]
  },
  {
   "cell_type": "markdown",
   "metadata": {},
   "source": [
    "## 3- Feature Analysis"
   ]
  },
  {
   "cell_type": "code",
   "execution_count": 56,
   "metadata": {},
   "outputs": [
    {
     "name": "stdout",
     "output_type": "stream",
     "text": [
      "31\n",
      "700\n"
     ]
    }
   ],
   "source": [
    "print(len(df[\"Address\"].unique()))\n",
    "print(len(df[\"Customer Id\"].unique()))"
   ]
  },
  {
   "cell_type": "markdown",
   "metadata": {},
   "source": [
    "The feature \"Address\" has 31 unique values eventhough we have 700 different customers which means that the addresse represent neighborhoods or cities. Sometime neighborhood have a strong correlation to socio-economic factors that might have an effect on our target values. We will investigate that correlation but first we need to cast the Adresses from object to numbers"
   ]
  },
  {
   "cell_type": "code",
   "execution_count": 57,
   "metadata": {},
   "outputs": [],
   "source": [
    "df[\"Address\"] = df[\"Address\"].astype('category')\n",
    "df[\"Address_code\"] = df[\"Address\"].cat.codes"
   ]
  },
  {
   "cell_type": "code",
   "execution_count": 58,
   "metadata": {},
   "outputs": [
    {
     "data": {
      "text/plain": [
       "Defaulted          1.000000\n",
       "DebtIncomeRatio    0.389575\n",
       "Years Employed     0.282978\n",
       "Card Debt          0.244734\n",
       "Address_code       0.164832\n",
       "Other Debt         0.145716\n",
       "Age                0.137657\n",
       "Edu                0.114676\n",
       "Income             0.070970\n",
       "Customer Id        0.004244\n",
       "Name: Defaulted, dtype: float64"
      ]
     },
     "execution_count": 58,
     "metadata": {},
     "output_type": "execute_result"
    }
   ],
   "source": [
    "# checking the correlation between the features and our target variable\n",
    "\n",
    "df.corr()[\"Defaulted\"].abs().sort_values(ascending=False)"
   ]
  },
  {
   "cell_type": "code",
   "execution_count": 44,
   "metadata": {},
   "outputs": [
    {
     "data": {
      "text/html": [
       "<div>\n",
       "<style scoped>\n",
       "    .dataframe tbody tr th:only-of-type {\n",
       "        vertical-align: middle;\n",
       "    }\n",
       "\n",
       "    .dataframe tbody tr th {\n",
       "        vertical-align: top;\n",
       "    }\n",
       "\n",
       "    .dataframe thead th {\n",
       "        text-align: right;\n",
       "    }\n",
       "</style>\n",
       "<table border=\"1\" class=\"dataframe\">\n",
       "  <thead>\n",
       "    <tr style=\"text-align: right;\">\n",
       "      <th></th>\n",
       "      <th>Customer Id</th>\n",
       "      <th>Age</th>\n",
       "      <th>Edu</th>\n",
       "      <th>Years Employed</th>\n",
       "      <th>Income</th>\n",
       "      <th>Card Debt</th>\n",
       "      <th>Other Debt</th>\n",
       "      <th>Defaulted</th>\n",
       "      <th>DebtIncomeRatio</th>\n",
       "      <th>Address_code</th>\n",
       "    </tr>\n",
       "  </thead>\n",
       "  <tbody>\n",
       "    <tr>\n",
       "      <th>Customer Id</th>\n",
       "      <td>1.000000</td>\n",
       "      <td>0.014894</td>\n",
       "      <td>0.039896</td>\n",
       "      <td>0.034290</td>\n",
       "      <td>0.050366</td>\n",
       "      <td>0.018939</td>\n",
       "      <td>0.031602</td>\n",
       "      <td>0.004244</td>\n",
       "      <td>0.002401</td>\n",
       "      <td>0.057768</td>\n",
       "    </tr>\n",
       "    <tr>\n",
       "      <th>Age</th>\n",
       "      <td>0.014894</td>\n",
       "      <td>1.000000</td>\n",
       "      <td>0.022325</td>\n",
       "      <td>0.536497</td>\n",
       "      <td>0.478710</td>\n",
       "      <td>0.295214</td>\n",
       "      <td>0.340213</td>\n",
       "      <td>0.137657</td>\n",
       "      <td>0.016398</td>\n",
       "      <td>0.597081</td>\n",
       "    </tr>\n",
       "    <tr>\n",
       "      <th>Edu</th>\n",
       "      <td>0.039896</td>\n",
       "      <td>0.022325</td>\n",
       "      <td>1.000000</td>\n",
       "      <td>0.153621</td>\n",
       "      <td>0.235190</td>\n",
       "      <td>0.088277</td>\n",
       "      <td>0.165458</td>\n",
       "      <td>0.114676</td>\n",
       "      <td>0.008838</td>\n",
       "      <td>0.057163</td>\n",
       "    </tr>\n",
       "    <tr>\n",
       "      <th>Years Employed</th>\n",
       "      <td>0.034290</td>\n",
       "      <td>0.536497</td>\n",
       "      <td>0.153621</td>\n",
       "      <td>1.000000</td>\n",
       "      <td>0.619681</td>\n",
       "      <td>0.403698</td>\n",
       "      <td>0.406089</td>\n",
       "      <td>0.282978</td>\n",
       "      <td>0.031182</td>\n",
       "      <td>0.322342</td>\n",
       "    </tr>\n",
       "    <tr>\n",
       "      <th>Income</th>\n",
       "      <td>0.050366</td>\n",
       "      <td>0.478710</td>\n",
       "      <td>0.235190</td>\n",
       "      <td>0.619681</td>\n",
       "      <td>1.000000</td>\n",
       "      <td>0.570196</td>\n",
       "      <td>0.610663</td>\n",
       "      <td>0.070970</td>\n",
       "      <td>0.026777</td>\n",
       "      <td>0.316326</td>\n",
       "    </tr>\n",
       "    <tr>\n",
       "      <th>Card Debt</th>\n",
       "      <td>0.018939</td>\n",
       "      <td>0.295214</td>\n",
       "      <td>0.088277</td>\n",
       "      <td>0.403698</td>\n",
       "      <td>0.570196</td>\n",
       "      <td>1.000000</td>\n",
       "      <td>0.633108</td>\n",
       "      <td>0.244734</td>\n",
       "      <td>0.501772</td>\n",
       "      <td>0.208779</td>\n",
       "    </tr>\n",
       "    <tr>\n",
       "      <th>Other Debt</th>\n",
       "      <td>0.031602</td>\n",
       "      <td>0.340213</td>\n",
       "      <td>0.165458</td>\n",
       "      <td>0.406089</td>\n",
       "      <td>0.610663</td>\n",
       "      <td>0.633108</td>\n",
       "      <td>1.000000</td>\n",
       "      <td>0.145716</td>\n",
       "      <td>0.584867</td>\n",
       "      <td>0.227462</td>\n",
       "    </tr>\n",
       "    <tr>\n",
       "      <th>Defaulted</th>\n",
       "      <td>0.004244</td>\n",
       "      <td>0.137657</td>\n",
       "      <td>0.114676</td>\n",
       "      <td>0.282978</td>\n",
       "      <td>0.070970</td>\n",
       "      <td>0.244734</td>\n",
       "      <td>0.145716</td>\n",
       "      <td>1.000000</td>\n",
       "      <td>0.389575</td>\n",
       "      <td>0.164832</td>\n",
       "    </tr>\n",
       "    <tr>\n",
       "      <th>DebtIncomeRatio</th>\n",
       "      <td>0.002401</td>\n",
       "      <td>0.016398</td>\n",
       "      <td>0.008838</td>\n",
       "      <td>0.031182</td>\n",
       "      <td>0.026777</td>\n",
       "      <td>0.501772</td>\n",
       "      <td>0.584867</td>\n",
       "      <td>0.389575</td>\n",
       "      <td>1.000000</td>\n",
       "      <td>0.012248</td>\n",
       "    </tr>\n",
       "    <tr>\n",
       "      <th>Address_code</th>\n",
       "      <td>0.057768</td>\n",
       "      <td>0.597081</td>\n",
       "      <td>0.057163</td>\n",
       "      <td>0.322342</td>\n",
       "      <td>0.316326</td>\n",
       "      <td>0.208779</td>\n",
       "      <td>0.227462</td>\n",
       "      <td>0.164832</td>\n",
       "      <td>0.012248</td>\n",
       "      <td>1.000000</td>\n",
       "    </tr>\n",
       "  </tbody>\n",
       "</table>\n",
       "</div>"
      ],
      "text/plain": [
       "                 Customer Id       Age       Edu  Years Employed    Income  \\\n",
       "Customer Id         1.000000  0.014894  0.039896        0.034290  0.050366   \n",
       "Age                 0.014894  1.000000  0.022325        0.536497  0.478710   \n",
       "Edu                 0.039896  0.022325  1.000000        0.153621  0.235190   \n",
       "Years Employed      0.034290  0.536497  0.153621        1.000000  0.619681   \n",
       "Income              0.050366  0.478710  0.235190        0.619681  1.000000   \n",
       "Card Debt           0.018939  0.295214  0.088277        0.403698  0.570196   \n",
       "Other Debt          0.031602  0.340213  0.165458        0.406089  0.610663   \n",
       "Defaulted           0.004244  0.137657  0.114676        0.282978  0.070970   \n",
       "DebtIncomeRatio     0.002401  0.016398  0.008838        0.031182  0.026777   \n",
       "Address_code        0.057768  0.597081  0.057163        0.322342  0.316326   \n",
       "\n",
       "                 Card Debt  Other Debt  Defaulted  DebtIncomeRatio  \\\n",
       "Customer Id       0.018939    0.031602   0.004244         0.002401   \n",
       "Age               0.295214    0.340213   0.137657         0.016398   \n",
       "Edu               0.088277    0.165458   0.114676         0.008838   \n",
       "Years Employed    0.403698    0.406089   0.282978         0.031182   \n",
       "Income            0.570196    0.610663   0.070970         0.026777   \n",
       "Card Debt         1.000000    0.633108   0.244734         0.501772   \n",
       "Other Debt        0.633108    1.000000   0.145716         0.584867   \n",
       "Defaulted         0.244734    0.145716   1.000000         0.389575   \n",
       "DebtIncomeRatio   0.501772    0.584867   0.389575         1.000000   \n",
       "Address_code      0.208779    0.227462   0.164832         0.012248   \n",
       "\n",
       "                 Address_code  \n",
       "Customer Id          0.057768  \n",
       "Age                  0.597081  \n",
       "Edu                  0.057163  \n",
       "Years Employed       0.322342  \n",
       "Income               0.316326  \n",
       "Card Debt            0.208779  \n",
       "Other Debt           0.227462  \n",
       "Defaulted            0.164832  \n",
       "DebtIncomeRatio      0.012248  \n",
       "Address_code         1.000000  "
      ]
     },
     "execution_count": 44,
     "metadata": {},
     "output_type": "execute_result"
    },
    {
     "data": {
      "image/png": "[encoded data removed]",
      "text/plain": [
       "<Figure size 720x576 with 2 Axes>"
      ]
     },
     "metadata": {
      "needs_background": "light"
     },
     "output_type": "display_data"
    }
   ],
   "source": [
    "# checking the correlation between all features\n",
    "\n",
    "fig = plt.figure(figsize=(10,8))\n",
    "corr = df.corr().abs()\n",
    "sns.heatmap(corr)\n",
    "df.corr().abs()"
   ]
  },
  {
   "cell_type": "markdown",
   "metadata": {},
   "source": [
    "We can see that many features are correlated to one another especially Age and Years Employed so we will not include Age since it is already reflected by YearsEmployed. We will not include Income in the feature selection as it has a low correlation with our target and is represented by a more important feature which is DebtIncomeRatio which has the highest correlation with our target.\n",
    "\n",
    "The address_code has a weak correlation with our target value but also has high correlation with other features such as Age, Income and Debt so we will not include it in the feature selection "
   ]
  },
  {
   "cell_type": "markdown",
   "metadata": {},
   "source": [
    "## 4- Model Deployment and Evaluation "
   ]
  },
  {
   "cell_type": "markdown",
   "metadata": {},
   "source": [
    "We will evaluate the following models and choose the one with the highest accuracy\n",
    "\n",
    "- Decision Tree\n",
    "- Random Forest\n",
    "- Logistic Regression\n",
    "- Support Vector Machine\n",
    "- K Nearest Neighbors\n",
    "- Gradient Boosting "
   ]
  },
  {
   "cell_type": "markdown",
   "metadata": {},
   "source": [
    "#### Splitting and preprocessing the data"
   ]
  },
  {
   "cell_type": "code",
   "execution_count": 59,
   "metadata": {},
   "outputs": [],
   "source": [
    "# splitting the data into test and train \n",
    "\n",
    "from sklearn.model_selection import train_test_split\n",
    "X = df[['Edu', 'Years Employed', 'Card Debt','Other Debt', 'DebtIncomeRatio']]\n",
    "y = df[\"Defaulted\"]\n",
    "X_train, X_test, y_train, y_test = train_test_split(X, y, test_size=0.25, random_state=1, stratify=y)"
   ]
  },
  {
   "cell_type": "markdown",
   "metadata": {},
   "source": [
    "Logistic Regression, SVM and KNN require feature standaization so we will do that for all the models"
   ]
  },
  {
   "cell_type": "code",
   "execution_count": 60,
   "metadata": {},
   "outputs": [],
   "source": [
    "from sklearn.preprocessing import StandardScaler\n",
    "sc= StandardScaler()\n",
    "sc.fit(X_train)\n",
    "X_train_std = sc.transform(X_train)\n",
    "X_test_std = sc.transform(X_test)"
   ]
  },
  {
   "cell_type": "markdown",
   "metadata": {},
   "source": [
    "#### Deploying the models"
   ]
  },
  {
   "cell_type": "code",
   "execution_count": 61,
   "metadata": {},
   "outputs": [],
   "source": [
    "from sklearn.ensemble import RandomForestClassifier\n",
    "from sklearn.linear_model import LogisticRegression\n",
    "from sklearn.svm import SVC\n",
    "from sklearn.tree import DecisionTreeClassifier\n",
    "from sklearn.neighbors import KNeighborsClassifier\n",
    "from sklearn.ensemble import GradientBoostingClassifier "
   ]
  },
  {
   "cell_type": "code",
   "execution_count": 62,
   "metadata": {},
   "outputs": [
    {
     "data": {
      "text/plain": [
       "GradientBoostingClassifier()"
      ]
     },
     "execution_count": 62,
     "metadata": {},
     "output_type": "execute_result"
    }
   ],
   "source": [
    "forest = RandomForestClassifier()\n",
    "forest.fit(X_train_std, y_train)\n",
    "LR = LogisticRegression()\n",
    "LR.fit(X_train_std, y_train)\n",
    "svm = SVC()\n",
    "svm.fit(X_train_std, y_train)\n",
    "tree = DecisionTreeClassifier()\n",
    "tree.fit(X_train_std, y_train)\n",
    "knn = KNeighborsClassifier()\n",
    "knn.fit(X_train_std, y_train)\n",
    "gbc = GradientBoostingClassifier()\n",
    "gbc.fit(X_train_std, y_train)"
   ]
  },
  {
   "cell_type": "markdown",
   "metadata": {},
   "source": [
    "#### Evaluationg the models"
   ]
  },
  {
   "cell_type": "code",
   "execution_count": 64,
   "metadata": {},
   "outputs": [],
   "source": [
    "y_hat_forest = forest.predict(X_test_std)\n",
    "y_hat_LR = LR.predict(X_test_std)\n",
    "y_hat_svm = svm.predict(X_test_std)\n",
    "y_hat_tree = tree.predict(X_test_std)\n",
    "y_hat_knn = knn.predict(X_test_std)\n",
    "y_hat_gbc = gbc.predict(X_test_std)"
   ]
  },
  {
   "cell_type": "code",
   "execution_count": 69,
   "metadata": {},
   "outputs": [],
   "source": [
    "def get_name(list_):\n",
    "    name =[x for x in globals() if globals()[x] is list_][0]\n",
    "    return name"
   ]
  },
  {
   "cell_type": "code",
   "execution_count": 70,
   "metadata": {},
   "outputs": [],
   "source": [
    "models = [y_hat_forest, y_hat_LR, y_hat_svm, y_hat_tree, y_hat_knn, y_hat_gbc]"
   ]
  },
  {
   "cell_type": "code",
   "execution_count": 74,
   "metadata": {},
   "outputs": [
    {
     "name": "stdout",
     "output_type": "stream",
     "text": [
      "y_hat_forest accuracy:  0.7485714285714286\n",
      "y_hat_LR accuracy:  0.8228571428571428\n",
      "y_hat_svm accuracy:  0.8\n",
      "y_hat_tree accuracy:  0.6914285714285714\n",
      "y_hat_knn accuracy:  0.7314285714285714\n",
      "y_hat_gbc accuracy:  0.7657142857142857\n"
     ]
    }
   ],
   "source": [
    "from sklearn.metrics import accuracy_score\n",
    "for model in models:\n",
    "    print (get_name(model), \"accuracy: \", accuracy_score(y_test, model))"
   ]
  },
  {
   "cell_type": "markdown",
   "metadata": {},
   "source": [
    "Without tuning any Hyperparameters, it seems like the LogisticRegression is the superior model for predicting loan default. It is also the most convenient because it also predicts the probability of defaulting as well. \n",
    "\n",
    "# 5- Predicting the outcome of the outstanding loans using Logistic Regression"
   ]
  },
  {
   "cell_type": "code",
   "execution_count": 26,
   "metadata": {},
   "outputs": [],
   "source": [
    "X_missing = df_missing[['Edu', 'Years Employed', 'Card Debt','Other Debt', 'DebtIncomeRatio']]\n",
    "sc.fit(X)\n",
    "X_std = sc.transform(X)\n",
    "X_missing_std = sc.transform (X_missing)\n",
    "LR.fit(X_std, y)\n",
    "y_hat_missing = LR.predict(X_missing_std)"
   ]
  },
  {
   "cell_type": "code",
   "execution_count": 77,
   "metadata": {},
   "outputs": [
    {
     "data": {
      "text/html": [
       "<div>\n",
       "<style scoped>\n",
       "    .dataframe tbody tr th:only-of-type {\n",
       "        vertical-align: middle;\n",
       "    }\n",
       "\n",
       "    .dataframe tbody tr th {\n",
       "        vertical-align: top;\n",
       "    }\n",
       "\n",
       "    .dataframe thead th {\n",
       "        text-align: right;\n",
       "    }\n",
       "</style>\n",
       "<table border=\"1\" class=\"dataframe\">\n",
       "  <thead>\n",
       "    <tr style=\"text-align: right;\">\n",
       "      <th></th>\n",
       "      <th>Customer Id</th>\n",
       "      <th>Age</th>\n",
       "      <th>Edu</th>\n",
       "      <th>Years Employed</th>\n",
       "      <th>Income</th>\n",
       "      <th>Card Debt</th>\n",
       "      <th>Other Debt</th>\n",
       "      <th>Defaulted</th>\n",
       "      <th>Address</th>\n",
       "      <th>DebtIncomeRatio</th>\n",
       "    </tr>\n",
       "  </thead>\n",
       "  <tbody>\n",
       "    <tr>\n",
       "      <th>5</th>\n",
       "      <td>6</td>\n",
       "      <td>40</td>\n",
       "      <td>1</td>\n",
       "      <td>23</td>\n",
       "      <td>81</td>\n",
       "      <td>0.998</td>\n",
       "      <td>7.831</td>\n",
       "      <td>0.0</td>\n",
       "      <td>NBA016</td>\n",
       "      <td>10.9</td>\n",
       "    </tr>\n",
       "    <tr>\n",
       "      <th>8</th>\n",
       "      <td>9</td>\n",
       "      <td>26</td>\n",
       "      <td>1</td>\n",
       "      <td>5</td>\n",
       "      <td>18</td>\n",
       "      <td>0.575</td>\n",
       "      <td>2.215</td>\n",
       "      <td>0.0</td>\n",
       "      <td>NBA006</td>\n",
       "      <td>15.5</td>\n",
       "    </tr>\n",
       "    <tr>\n",
       "      <th>11</th>\n",
       "      <td>12</td>\n",
       "      <td>34</td>\n",
       "      <td>2</td>\n",
       "      <td>9</td>\n",
       "      <td>40</td>\n",
       "      <td>0.374</td>\n",
       "      <td>0.266</td>\n",
       "      <td>0.0</td>\n",
       "      <td>NBA003</td>\n",
       "      <td>1.6</td>\n",
       "    </tr>\n",
       "    <tr>\n",
       "      <th>13</th>\n",
       "      <td>14</td>\n",
       "      <td>46</td>\n",
       "      <td>1</td>\n",
       "      <td>6</td>\n",
       "      <td>30</td>\n",
       "      <td>1.415</td>\n",
       "      <td>3.865</td>\n",
       "      <td>0.0</td>\n",
       "      <td>NBA019</td>\n",
       "      <td>17.6</td>\n",
       "    </tr>\n",
       "    <tr>\n",
       "      <th>15</th>\n",
       "      <td>16</td>\n",
       "      <td>24</td>\n",
       "      <td>1</td>\n",
       "      <td>1</td>\n",
       "      <td>16</td>\n",
       "      <td>0.185</td>\n",
       "      <td>1.287</td>\n",
       "      <td>0.0</td>\n",
       "      <td>NBA005</td>\n",
       "      <td>9.2</td>\n",
       "    </tr>\n",
       "    <tr>\n",
       "      <th>...</th>\n",
       "      <td>...</td>\n",
       "      <td>...</td>\n",
       "      <td>...</td>\n",
       "      <td>...</td>\n",
       "      <td>...</td>\n",
       "      <td>...</td>\n",
       "      <td>...</td>\n",
       "      <td>...</td>\n",
       "      <td>...</td>\n",
       "      <td>...</td>\n",
       "    </tr>\n",
       "    <tr>\n",
       "      <th>818</th>\n",
       "      <td>819</td>\n",
       "      <td>35</td>\n",
       "      <td>2</td>\n",
       "      <td>0</td>\n",
       "      <td>35</td>\n",
       "      <td>2.383</td>\n",
       "      <td>1.957</td>\n",
       "      <td>1.0</td>\n",
       "      <td>NBA006</td>\n",
       "      <td>12.4</td>\n",
       "    </tr>\n",
       "    <tr>\n",
       "      <th>820</th>\n",
       "      <td>821</td>\n",
       "      <td>37</td>\n",
       "      <td>1</td>\n",
       "      <td>4</td>\n",
       "      <td>24</td>\n",
       "      <td>0.419</td>\n",
       "      <td>2.989</td>\n",
       "      <td>0.0</td>\n",
       "      <td>NBA010</td>\n",
       "      <td>14.2</td>\n",
       "    </tr>\n",
       "    <tr>\n",
       "      <th>825</th>\n",
       "      <td>826</td>\n",
       "      <td>32</td>\n",
       "      <td>2</td>\n",
       "      <td>12</td>\n",
       "      <td>116</td>\n",
       "      <td>4.027</td>\n",
       "      <td>2.585</td>\n",
       "      <td>0.0</td>\n",
       "      <td>NBA011</td>\n",
       "      <td>5.7</td>\n",
       "    </tr>\n",
       "    <tr>\n",
       "      <th>835</th>\n",
       "      <td>836</td>\n",
       "      <td>21</td>\n",
       "      <td>3</td>\n",
       "      <td>0</td>\n",
       "      <td>41</td>\n",
       "      <td>2.367</td>\n",
       "      <td>5.628</td>\n",
       "      <td>1.0</td>\n",
       "      <td>NBA001</td>\n",
       "      <td>19.5</td>\n",
       "    </tr>\n",
       "    <tr>\n",
       "      <th>845</th>\n",
       "      <td>846</td>\n",
       "      <td>27</td>\n",
       "      <td>1</td>\n",
       "      <td>5</td>\n",
       "      <td>26</td>\n",
       "      <td>0.548</td>\n",
       "      <td>1.220</td>\n",
       "      <td>0.0</td>\n",
       "      <td>NBA007</td>\n",
       "      <td>6.8</td>\n",
       "    </tr>\n",
       "  </tbody>\n",
       "</table>\n",
       "<p>150 rows × 10 columns</p>\n",
       "</div>"
      ],
      "text/plain": [
       "     Customer Id  Age  Edu  Years Employed  Income  Card Debt  Other Debt  \\\n",
       "5              6   40    1              23      81      0.998       7.831   \n",
       "8              9   26    1               5      18      0.575       2.215   \n",
       "11            12   34    2               9      40      0.374       0.266   \n",
       "13            14   46    1               6      30      1.415       3.865   \n",
       "15            16   24    1               1      16      0.185       1.287   \n",
       "..           ...  ...  ...             ...     ...        ...         ...   \n",
       "818          819   35    2               0      35      2.383       1.957   \n",
       "820          821   37    1               4      24      0.419       2.989   \n",
       "825          826   32    2              12     116      4.027       2.585   \n",
       "835          836   21    3               0      41      2.367       5.628   \n",
       "845          846   27    1               5      26      0.548       1.220   \n",
       "\n",
       "     Defaulted Address  DebtIncomeRatio  \n",
       "5          0.0  NBA016             10.9  \n",
       "8          0.0  NBA006             15.5  \n",
       "11         0.0  NBA003              1.6  \n",
       "13         0.0  NBA019             17.6  \n",
       "15         0.0  NBA005              9.2  \n",
       "..         ...     ...              ...  \n",
       "818        1.0  NBA006             12.4  \n",
       "820        0.0  NBA010             14.2  \n",
       "825        0.0  NBA011              5.7  \n",
       "835        1.0  NBA001             19.5  \n",
       "845        0.0  NBA007              6.8  \n",
       "\n",
       "[150 rows x 10 columns]"
      ]
     },
     "execution_count": 77,
     "metadata": {},
     "output_type": "execute_result"
    }
   ],
   "source": [
    "# Adding the values of \"y_hat_missing\" to the column \"Defaulted\" for the outstanding loans\n",
    "\n",
    "df_missing[\"Defaulted\"] = y_hat_missing\n",
    "df_missing"
   ]
  },
  {
   "cell_type": "code",
   "execution_count": null,
   "metadata": {},
   "outputs": [],
   "source": []
  }
 ],
 "metadata": {
  "kernelspec": {
   "display_name": "Python 3",
   "language": "python",
   "name": "python3"
  },
  "language_info": {
   "codemirror_mode": {
    "name": "ipython",
    "version": 3
   },
   "file_extension": ".py",
   "mimetype": "text/x-python",
   "name": "python",
   "nbconvert_exporter": "python",
   "pygments_lexer": "ipython3",
   "version": "3.8.5"
  }
 },
 "nbformat": 4,
 "nbformat_minor": 4
}
